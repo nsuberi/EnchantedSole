{
 "cells": [
  {
   "cell_type": "code",
   "execution_count": 10,
   "metadata": {
    "collapsed": false
   },
   "outputs": [],
   "source": [
    "# Import smtplib for the actual sending function\n",
    "import smtplib\n",
    "import os\n",
    "import pandas as pd\n",
    "from datetime import datetime, timedelta\n",
    "\n",
    "# Import the email modules we'll need\n",
    "from email.mime.text import MIMEText"
   ]
  },
  {
   "cell_type": "code",
   "execution_count": 20,
   "metadata": {
    "collapsed": true
   },
   "outputs": [],
   "source": [
    "FROM = os.environ.get('reports_user')\n",
    "PASS = os.environ.get('reports_password')\n",
    "SOLD_REPORT = ''\n",
    "INVENTORY_REPORT = ''\n",
    "DATE_FORMAT = '%m-%d-%Y'"
   ]
  },
  {
   "cell_type": "code",
   "execution_count": null,
   "metadata": {
    "collapsed": true
   },
   "outputs": [],
   "source": [
    "textfile = 'sample_data.csv'\n",
    "\n",
    "# Open a plain text file for reading.  For this example, assume that\n",
    "# the text file contains only ASCII characters.\n",
    "with open(textfile) as fp:\n",
    "    # Create a text/plain message\n",
    "    msg = MIMEText(fp.read())"
   ]
  },
  {
   "cell_type": "code",
   "execution_count": null,
   "metadata": {
    "collapsed": true
   },
   "outputs": [],
   "source": [
    "reps = {\n",
    "    'Vionic': '', \n",
    "    'Dansko': '',\n",
    "    'Naot': '',\n",
    "    'Mephisto': '',\n",
    "    'Olukai': '',\n",
    "    'Aetrex': '',\n",
    "    'Pikolinos': '',\n",
    "    'Taos': '',\n",
    "    'Haflinger, Finn Comfort, Think': '',\n",
    "    'Simco': ''\n",
    "}"
   ]
  },
  {
   "cell_type": "code",
   "execution_count": null,
   "metadata": {
    "collapsed": true
   },
   "outputs": [],
   "source": [
    "sold_data = pd.read_csv(SOLD_REPORT)\n",
    "inventory_data = pd.read_csv(INVENTORY_REPORT)"
   ]
  },
  {
   "cell_type": "code",
   "execution_count": null,
   "metadata": {
    "collapsed": true
   },
   "outputs": [],
   "source": [
    "server = smtplib.SMTP('smtp.gmail.com:587')\n",
    "server.ehlo()\n",
    "server.starttls()\n",
    "server.login(FROM, PASS)\n",
    "\n",
    "end_date = datetime.today()\n",
    "start_date = end_date - timedelta(days=7)\n",
    "\n",
    "\n",
    "for vendor, TO in reps:\n",
    "\n",
    "    msg['Subject'] = 'Sales and inventory of {} during period {} to {}'.format(vendor, start_date.strftime(DATE_FORMAT), end_date.strftime(DATE_FORMAT))\n",
    "    msg['From'] = FROM\n",
    "    msg['To'] = TO\n",
    "\n",
    "    # Create attachments by subsetting the sold_data and inventory_data\n",
    "    \n",
    "    # Send the message via our own SMTP server.\n",
    "    server.send_message(msg)\n",
    "\n",
    "server.quit()"
   ]
  },
  {
   "cell_type": "code",
   "execution_count": null,
   "metadata": {
    "collapsed": true
   },
   "outputs": [],
   "source": []
  }
 ],
 "metadata": {
  "kernelspec": {
   "display_name": "Python 3",
   "language": "python",
   "name": "python3"
  }
 },
 "nbformat": 4,
 "nbformat_minor": 2
}
