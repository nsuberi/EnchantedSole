{
 "cells": [
  {
   "cell_type": "code",
   "execution_count": 52,
   "metadata": {
    "collapsed": true
   },
   "outputs": [],
   "source": [
    "import pandas as pd\n",
    "import os\n",
    "from datetime import datetime\n",
    "\n",
    "pd.options.display.max_rows = 300\n",
    "pd.options.display.max_columns = 300"
   ]
  },
  {
   "cell_type": "code",
   "execution_count": 4,
   "metadata": {
    "collapsed": true
   },
   "outputs": [],
   "source": [
    "REPORT_LOCATION = '~/Downloads'\n",
    "SALES_RPT = 'Sole Comfort and Enchanted Art sales during period 08-20-2018 to 08-26-2018.csv'\n",
    "INVENTORY_RPT = 'Sole Comfort and Enchanted Art inventory as of 08-26-2018.csv'"
   ]
  },
  {
   "cell_type": "code",
   "execution_count": 9,
   "metadata": {
    "collapsed": false
   },
   "outputs": [],
   "source": [
    "sales = pd.read_csv(os.path.expanduser(os.path.join(REPORT_LOCATION, SALES_RPT)))\n",
    "sales = sales.drop('Unnamed: 0', axis=1)\n",
    "\n",
    "inventory = pd.read_csv(os.path.expanduser(os.path.join(REPORT_LOCATION, INVENTORY_RPT)))\n",
    "inventory = inventory.drop('Unnamed: 0', axis=1)"
   ]
  },
  {
   "cell_type": "code",
   "execution_count": 30,
   "metadata": {
    "collapsed": true
   },
   "outputs": [],
   "source": [
    "def process(listOlists):\n",
    "    if len(listOlists) == 2:\n",
    "        return listOlists[0].fillna('') + listOlists[1].fillna('')\n",
    "    else:\n",
    "        return listOlists[-1].fillna('') + process(listOlists[:-1])"
   ]
  },
  {
   "cell_type": "code",
   "execution_count": 79,
   "metadata": {
    "collapsed": false
   },
   "outputs": [
    {
     "data": {
      "text/plain": [
       "'38NAVYAETMIA BRAID STRAP'"
      ]
     },
     "execution_count": 79,
     "metadata": {},
     "output_type": "execute_result"
    }
   ],
   "source": [
    "sales['Key'] = process([sales['Vendor\\r\\nCode'], sales['Description1'], sales['Attribute'], sales['Size']])\n",
    "sales[sales['Vendor\\r\\nCode']=='AET'].sort_values(by=['Description1', 'Attribute', 'Size'])\n",
    "sales.loc[156, 'Key']"
   ]
  },
  {
   "cell_type": "code",
   "execution_count": 80,
   "metadata": {
    "collapsed": false
   },
   "outputs": [
    {
     "data": {
      "text/plain": [
       "'38NAVYAETMIA BRAID STRAP'"
      ]
     },
     "execution_count": 80,
     "metadata": {},
     "output_type": "execute_result"
    }
   ],
   "source": [
    "inventory['Key'] = process([inventory['Vend Code'], inventory['Desc1'], inventory['Attr'], inventory['Size']])\n",
    "inventory[inventory['Vend Code']=='AET'].sort_values(by=['Desc1', 'Attr', 'Size'])\n",
    "inventory.loc[82, 'Key']"
   ]
  },
  {
   "cell_type": "code",
   "execution_count": 81,
   "metadata": {
    "collapsed": false
   },
   "outputs": [
    {
     "data": {
      "text/plain": [
       "True"
      ]
     },
     "execution_count": 81,
     "metadata": {},
     "output_type": "execute_result"
    }
   ],
   "source": [
    "sales.loc[156, 'Key'] == inventory.loc[82, 'Key']"
   ]
  },
  {
   "cell_type": "code",
   "execution_count": 83,
   "metadata": {
    "collapsed": false
   },
   "outputs": [],
   "source": [
    "sales_plus_inv = sales.merge(inventory, how='inner', left_on='Key', right_on = 'Key')"
   ]
  },
  {
   "cell_type": "code",
   "execution_count": 84,
   "metadata": {
    "collapsed": false
   },
   "outputs": [
    {
     "data": {
      "text/html": [
       "<div>\n",
       "<style>\n",
       "    .dataframe thead tr:only-child th {\n",
       "        text-align: right;\n",
       "    }\n",
       "\n",
       "    .dataframe thead th {\n",
       "        text-align: left;\n",
       "    }\n",
       "\n",
       "    .dataframe tbody tr th {\n",
       "        vertical-align: top;\n",
       "    }\n",
       "</style>\n",
       "<table border=\"1\" class=\"dataframe\">\n",
       "  <thead>\n",
       "    <tr style=\"text-align: right;\">\n",
       "      <th></th>\n",
       "      <th>DCS Code</th>\n",
       "      <th>Vendor\r\n",
       "Code</th>\n",
       "      <th>Description1</th>\n",
       "      <th>Attribute</th>\n",
       "      <th>Size_x</th>\n",
       "      <th>UPC</th>\n",
       "      <th>QTY</th>\n",
       "      <th>Ext Price</th>\n",
       "      <th>Ext Cost</th>\n",
       "      <th>Ext Margin Amount</th>\n",
       "      <th>Margin %</th>\n",
       "      <th>Key</th>\n",
       "      <th>DCS</th>\n",
       "      <th>Vend Code</th>\n",
       "      <th>Desc1</th>\n",
       "      <th>Attr</th>\n",
       "      <th>Size_y</th>\n",
       "      <th>Qty</th>\n",
       "      <th>Price</th>\n",
       "      <th>Cost</th>\n",
       "    </tr>\n",
       "  </thead>\n",
       "  <tbody>\n",
       "    <tr>\n",
       "      <th>8</th>\n",
       "      <td>W  S</td>\n",
       "      <td>AET</td>\n",
       "      <td>EVIE BRAID TOE LOOP</td>\n",
       "      <td>GLDES552</td>\n",
       "      <td>39</td>\n",
       "      <td>NaN</td>\n",
       "      <td>-1.0</td>\n",
       "      <td>-119.95</td>\n",
       "      <td>-57.50</td>\n",
       "      <td>-62.45</td>\n",
       "      <td>52.06</td>\n",
       "      <td>39GLDES552AETEVIE BRAID TOE LOOP</td>\n",
       "      <td>W  S</td>\n",
       "      <td>AET</td>\n",
       "      <td>EVIE BRAID TOE LOOP</td>\n",
       "      <td>GLDES552</td>\n",
       "      <td>39</td>\n",
       "      <td>1</td>\n",
       "      <td>119.95</td>\n",
       "      <td>57.5</td>\n",
       "    </tr>\n",
       "    <tr>\n",
       "      <th>27</th>\n",
       "      <td>W  S</td>\n",
       "      <td>AET</td>\n",
       "      <td>MARIA JEWELED</td>\n",
       "      <td>GUNSE283</td>\n",
       "      <td>38</td>\n",
       "      <td>NaN</td>\n",
       "      <td>-1.0</td>\n",
       "      <td>-89.95</td>\n",
       "      <td>-45.00</td>\n",
       "      <td>-44.95</td>\n",
       "      <td>49.97</td>\n",
       "      <td>38GUNSE283AETMARIA JEWELED</td>\n",
       "      <td>W  S</td>\n",
       "      <td>AET</td>\n",
       "      <td>MARIA JEWELED</td>\n",
       "      <td>GUNSE283</td>\n",
       "      <td>38</td>\n",
       "      <td>1</td>\n",
       "      <td>89.95</td>\n",
       "      <td>45.0</td>\n",
       "    </tr>\n",
       "    <tr>\n",
       "      <th>31</th>\n",
       "      <td>W  S</td>\n",
       "      <td>AET</td>\n",
       "      <td>MIA BRAID STRAP</td>\n",
       "      <td>NAVY</td>\n",
       "      <td>38</td>\n",
       "      <td>NaN</td>\n",
       "      <td>1.0</td>\n",
       "      <td>149.95</td>\n",
       "      <td>72.50</td>\n",
       "      <td>77.45</td>\n",
       "      <td>51.65</td>\n",
       "      <td>38NAVYAETMIA BRAID STRAP</td>\n",
       "      <td>W  S</td>\n",
       "      <td>AET</td>\n",
       "      <td>MIA BRAID STRAP</td>\n",
       "      <td>NAVY</td>\n",
       "      <td>38</td>\n",
       "      <td>1</td>\n",
       "      <td>149.95</td>\n",
       "      <td>72.5</td>\n",
       "    </tr>\n",
       "    <tr>\n",
       "      <th>37</th>\n",
       "      <td>W  C</td>\n",
       "      <td>AET</td>\n",
       "      <td>ROBIN CLOG AETREX</td>\n",
       "      <td>FLW GARD</td>\n",
       "      <td>40</td>\n",
       "      <td>NaN</td>\n",
       "      <td>-1.0</td>\n",
       "      <td>-99.95</td>\n",
       "      <td>-50.00</td>\n",
       "      <td>-49.95</td>\n",
       "      <td>49.97</td>\n",
       "      <td>40FLW GARDAETROBIN CLOG AETREX</td>\n",
       "      <td>W  C</td>\n",
       "      <td>AET</td>\n",
       "      <td>ROBIN CLOG AETREX</td>\n",
       "      <td>FLW GARD</td>\n",
       "      <td>40</td>\n",
       "      <td>2</td>\n",
       "      <td>199.90</td>\n",
       "      <td>100.0</td>\n",
       "    </tr>\n",
       "    <tr>\n",
       "      <th>38</th>\n",
       "      <td>W  C</td>\n",
       "      <td>AET</td>\n",
       "      <td>ROBIN CLOG AETREX</td>\n",
       "      <td>FLW POW</td>\n",
       "      <td>37</td>\n",
       "      <td>NaN</td>\n",
       "      <td>1.0</td>\n",
       "      <td>99.95</td>\n",
       "      <td>50.00</td>\n",
       "      <td>49.95</td>\n",
       "      <td>49.97</td>\n",
       "      <td>37FLW POWAETROBIN CLOG AETREX</td>\n",
       "      <td>W  C</td>\n",
       "      <td>AET</td>\n",
       "      <td>ROBIN CLOG AETREX</td>\n",
       "      <td>FLW POW</td>\n",
       "      <td>37</td>\n",
       "      <td>1</td>\n",
       "      <td>99.95</td>\n",
       "      <td>50.0</td>\n",
       "    </tr>\n",
       "  </tbody>\n",
       "</table>\n",
       "</div>"
      ],
      "text/plain": [
       "   DCS Code Vendor\\r\\nCode         Description1 Attribute Size_x  UPC  QTY  \\\n",
       "8      W  S            AET  EVIE BRAID TOE LOOP  GLDES552     39  NaN -1.0   \n",
       "27     W  S            AET        MARIA JEWELED  GUNSE283     38  NaN -1.0   \n",
       "31     W  S            AET      MIA BRAID STRAP      NAVY     38  NaN  1.0   \n",
       "37     W  C            AET    ROBIN CLOG AETREX  FLW GARD     40  NaN -1.0   \n",
       "38     W  C            AET    ROBIN CLOG AETREX   FLW POW     37  NaN  1.0   \n",
       "\n",
       "    Ext Price Ext Cost Ext Margin Amount  Margin %  \\\n",
       "8     -119.95   -57.50            -62.45     52.06   \n",
       "27     -89.95   -45.00            -44.95     49.97   \n",
       "31     149.95    72.50             77.45     51.65   \n",
       "37     -99.95   -50.00            -49.95     49.97   \n",
       "38      99.95    50.00             49.95     49.97   \n",
       "\n",
       "                                 Key   DCS Vend Code                Desc1  \\\n",
       "8   39GLDES552AETEVIE BRAID TOE LOOP  W  S       AET  EVIE BRAID TOE LOOP   \n",
       "27        38GUNSE283AETMARIA JEWELED  W  S       AET        MARIA JEWELED   \n",
       "31          38NAVYAETMIA BRAID STRAP  W  S       AET      MIA BRAID STRAP   \n",
       "37    40FLW GARDAETROBIN CLOG AETREX  W  C       AET    ROBIN CLOG AETREX   \n",
       "38     37FLW POWAETROBIN CLOG AETREX  W  C       AET    ROBIN CLOG AETREX   \n",
       "\n",
       "        Attr Size_y  Qty   Price   Cost  \n",
       "8   GLDES552     39    1  119.95   57.5  \n",
       "27  GUNSE283     38    1   89.95   45.0  \n",
       "31      NAVY     38    1  149.95   72.5  \n",
       "37  FLW GARD     40    2  199.90  100.0  \n",
       "38   FLW POW     37    1   99.95   50.0  "
      ]
     },
     "execution_count": 84,
     "metadata": {},
     "output_type": "execute_result"
    }
   ],
   "source": [
    "sales_plus_inv[sales_plus_inv['Vendor\\r\\nCode'] == 'AET']"
   ]
  },
  {
   "cell_type": "code",
   "execution_count": 89,
   "metadata": {
    "collapsed": false
   },
   "outputs": [
    {
     "data": {
      "text/html": [
       "<div>\n",
       "<style>\n",
       "    .dataframe thead tr:only-child th {\n",
       "        text-align: right;\n",
       "    }\n",
       "\n",
       "    .dataframe thead th {\n",
       "        text-align: left;\n",
       "    }\n",
       "\n",
       "    .dataframe tbody tr th {\n",
       "        vertical-align: top;\n",
       "    }\n",
       "</style>\n",
       "<table border=\"1\" class=\"dataframe\">\n",
       "  <thead>\n",
       "    <tr style=\"text-align: right;\">\n",
       "      <th></th>\n",
       "      <th>Vendor Code</th>\n",
       "      <th>Style</th>\n",
       "      <th>Attribute</th>\n",
       "      <th>Size</th>\n",
       "      <th>Num Sold Last Week</th>\n",
       "      <th>Current Inventory</th>\n",
       "    </tr>\n",
       "  </thead>\n",
       "  <tbody>\n",
       "    <tr>\n",
       "      <th>13</th>\n",
       "      <td>DAN</td>\n",
       "      <td>HAYES DANSKO</td>\n",
       "      <td>BLK SUED</td>\n",
       "      <td>38</td>\n",
       "      <td>1.0</td>\n",
       "      <td>2</td>\n",
       "    </tr>\n",
       "    <tr>\n",
       "      <th>23</th>\n",
       "      <td>DAN</td>\n",
       "      <td>LORALIE DAN</td>\n",
       "      <td>BLACK</td>\n",
       "      <td>40</td>\n",
       "      <td>1.0</td>\n",
       "      <td>3</td>\n",
       "    </tr>\n",
       "    <tr>\n",
       "      <th>28</th>\n",
       "      <td>DAN</td>\n",
       "      <td>MARTINA DANSKO</td>\n",
       "      <td>BLKO</td>\n",
       "      <td>37</td>\n",
       "      <td>2.0</td>\n",
       "      <td>1</td>\n",
       "    </tr>\n",
       "    <tr>\n",
       "      <th>29</th>\n",
       "      <td>DAN</td>\n",
       "      <td>MARTINA DANSKO</td>\n",
       "      <td>BLKO</td>\n",
       "      <td>40</td>\n",
       "      <td>1.0</td>\n",
       "      <td>2</td>\n",
       "    </tr>\n",
       "    <tr>\n",
       "      <th>39</th>\n",
       "      <td>DAN</td>\n",
       "      <td>SHAINA DANSKO</td>\n",
       "      <td>BLKPU</td>\n",
       "      <td>38</td>\n",
       "      <td>1.0</td>\n",
       "      <td>1</td>\n",
       "    </tr>\n",
       "    <tr>\n",
       "      <th>41</th>\n",
       "      <td>DAN</td>\n",
       "      <td>SOPHIE DANSKO</td>\n",
       "      <td>BLKDRIZZ</td>\n",
       "      <td>39</td>\n",
       "      <td>1.0</td>\n",
       "      <td>2</td>\n",
       "    </tr>\n",
       "  </tbody>\n",
       "</table>\n",
       "</div>"
      ],
      "text/plain": [
       "   Vendor Code           Style Attribute Size  Num Sold Last Week  \\\n",
       "13         DAN    HAYES DANSKO  BLK SUED   38                 1.0   \n",
       "23         DAN     LORALIE DAN     BLACK   40                 1.0   \n",
       "28         DAN  MARTINA DANSKO      BLKO   37                 2.0   \n",
       "29         DAN  MARTINA DANSKO      BLKO   40                 1.0   \n",
       "39         DAN   SHAINA DANSKO     BLKPU   38                 1.0   \n",
       "41         DAN   SOPHIE DANSKO  BLKDRIZZ   39                 1.0   \n",
       "\n",
       "    Current Inventory  \n",
       "13                  2  \n",
       "23                  3  \n",
       "28                  1  \n",
       "29                  2  \n",
       "39                  1  \n",
       "41                  2  "
      ]
     },
     "execution_count": 89,
     "metadata": {},
     "output_type": "execute_result"
    }
   ],
   "source": [
    "sales_report = sales_plus_inv[['Vend Code', 'Desc1', 'Attr', 'Size_x', 'QTY', 'Qty']]\n",
    "sales_report.columns = ['Vendor Code', 'Style', 'Attribute', 'Size', 'Num Sold Last Week', 'Current Inventory']\n",
    "sales_report[sales_report['Vendor Code'] == 'DAN']"
   ]
  }
 ],
 "metadata": {
  "kernelspec": {
   "display_name": "Python 3",
   "language": "python",
   "name": "python3"
  },
  "language_info": {
   "codemirror_mode": {
    "name": "ipython",
    "version": 3
   },
   "file_extension": ".py",
   "mimetype": "text/x-python",
   "name": "python",
   "nbconvert_exporter": "python",
   "pygments_lexer": "ipython3",
   "version": "3.6.0"
  }
 },
 "nbformat": 4,
 "nbformat_minor": 2
}
