{
 "cells": [
  {
   "cell_type": "code",
   "execution_count": null,
   "metadata": {
    "collapsed": true
   },
   "outputs": [],
   "source": [
    "import pandas as pd\n",
    "pd.options.display.max_columns = 100\n",
    "pd.options.display.max_rows = 1000"
   ]
  },
  {
   "cell_type": "code",
   "execution_count": null,
   "metadata": {
    "collapsed": true
   },
   "outputs": [],
   "source": [
    "def test_func(inp, test_str):\n",
    "    if type(inp) != str:\n",
    "        return False\n",
    "    else:\n",
    "        return test_str in inp"
   ]
  },
  {
   "cell_type": "markdown",
   "metadata": {},
   "source": [
    "# Load and format data"
   ]
  },
  {
   "cell_type": "code",
   "execution_count": null,
   "metadata": {
    "collapsed": false
   },
   "outputs": [],
   "source": [
    "df = pd.read_excel('/Users/nathansuberi/Downloads/OH_Items3.xls')\n",
    "df = df.drop('Unnamed: 0', axis=1)\n",
    "df = df[['Unnamed: 3', 'Unnamed: 5', 'Unnamed: 8', 'Unnamed: 13', 'Unnamed: 17', 'Unnamed: 24', 'Unnamed: 27', 'Unnamed: 31']]\n",
    "df.columns = ['DCS', 'Vend Code', 'Desc1', 'Attr', 'Size', 'Qty1', 'Qty2', 'Qty3']\n",
    "df = df.drop([11, 1])\n",
    "df = df.dropna(axis=0, how='all')\n",
    "df = df.dropna(axis=1, how='all')"
   ]
  },
  {
   "cell_type": "markdown",
   "metadata": {},
   "source": [
    "# Pull just Merrells to check against Inventory View"
   ]
  },
  {
   "cell_type": "code",
   "execution_count": null,
   "metadata": {
    "collapsed": false
   },
   "outputs": [],
   "source": [
    "df.loc[df['Qty1'].notnull(), 'Qty1'].sum()"
   ]
  },
  {
   "cell_type": "code",
   "execution_count": null,
   "metadata": {
    "collapsed": false
   },
   "outputs": [],
   "source": [
    "mer_flag = [test_func(vnd, 'MER') for vnd in df['Vend Code']]\n",
    "merrells = df[mer_flag]"
   ]
  },
  {
   "cell_type": "code",
   "execution_count": null,
   "metadata": {
    "collapsed": false
   },
   "outputs": [],
   "source": [
    "merrells[merrells['Desc1'].str.contains('MIMOSA')]"
   ]
  },
  {
   "cell_type": "code",
   "execution_count": null,
   "metadata": {
    "collapsed": false
   },
   "outputs": [],
   "source": [
    "qty = df['On Hand\\nQty']\n",
    "df = df.drop('On Hand\\nQty', axis=1)\n",
    "df = df.dropna(axis=0, how='all')\n",
    "df = df.drop([15, 16])\n",
    "df = df.join(qty)"
   ]
  },
  {
   "cell_type": "code",
   "execution_count": null,
   "metadata": {
    "collapsed": false
   },
   "outputs": [],
   "source": [
    "sums = df.groupby(['DCS', 'Vend Code', 'Desc1', 'Attr']).sum()\n",
    "sums = sums.reset_index()\n",
    "inventory = sums[sums['On Hand\\nQty'] > 0]\n",
    "small_inv = inventory[inventory['On Hand\\nQty'] <= 2]\n",
    "small_inv.to_html('/Users/nathansuberi/Desktop/enchanted_reports/Small_inventory.html')"
   ]
  }
 ],
 "metadata": {
  "kernelspec": {
   "display_name": "Python 3",
   "language": "python",
   "name": "python3"
  },
  "language_info": {
   "codemirror_mode": {
    "name": "ipython",
    "version": 3
   },
   "file_extension": ".py",
   "mimetype": "text/x-python",
   "name": "python",
   "nbconvert_exporter": "python",
   "pygments_lexer": "ipython3",
   "version": "3.6.0"
  }
 },
 "nbformat": 4,
 "nbformat_minor": 2
}
