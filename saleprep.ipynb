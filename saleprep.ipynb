{
 "cells": [
  {
   "cell_type": "code",
   "execution_count": 1,
   "metadata": {
    "collapsed": false
   },
   "outputs": [],
   "source": [
    "import pandas as pd\n",
    "pd.options.display.max_rows=1000\n",
    "import numpy as np"
   ]
  },
  {
   "cell_type": "markdown",
   "metadata": {},
   "source": [
    "# Load and format data"
   ]
  },
  {
   "cell_type": "code",
   "execution_count": 2,
   "metadata": {
    "collapsed": false
   },
   "outputs": [],
   "source": [
    "df = pd.read_excel('/Users/nathansuberi/Downloads/retailreport2.xls')\n",
    "df = df.reset_index()\n",
    "df = df.dropna(axis=0, how='all')\n",
    "df = df.drop([1,6,8,10])\n",
    "df.columns = df.loc[12]\n",
    "df = df.drop([12,15])\n",
    "df = df.dropna(axis=1, how='all')"
   ]
  },
  {
   "cell_type": "code",
   "execution_count": 8,
   "metadata": {
    "collapsed": false
   },
   "outputs": [],
   "source": [
    "df.columns = ['DCS Code',\n",
    " 'Vendor\\nCode',\n",
    " 'Description1',\n",
    " None,\n",
    " 'Attribute',\n",
    " None,\n",
    " 'Size',\n",
    " 'UPC',\n",
    " 'QTY',\n",
    " None,\n",
    " 'Ext Price',\n",
    " 'Ext Cost',\n",
    " 'Ext Margin Amount',\n",
    " 'Margin %']\n",
    "\n",
    "df.drop(None, axis=1)"
   ]
  },
  {
   "cell_type": "code",
   "execution_count": null,
   "metadata": {
    "collapsed": true
   },
   "outputs": [],
   "source": [
    "trimmed_df = df.drop([12192, 12194, 12197])"
   ]
  },
  {
   "cell_type": "code",
   "execution_count": null,
   "metadata": {
    "collapsed": false
   },
   "outputs": [],
   "source": [
    "sandal_flag = [a or b for a,b in zip(trimmed_df['DCS Code'].str.contains('W  S'), trimmed_df['DCS Code'].str.contains('M  S'))]\n",
    "sandals = df.loc[sandal_flag]"
   ]
  },
  {
   "cell_type": "code",
   "execution_count": null,
   "metadata": {
    "collapsed": true
   },
   "outputs": [],
   "source": [
    "sandals"
   ]
  },
  {
   "cell_type": "code",
   "execution_count": null,
   "metadata": {
    "collapsed": false
   },
   "outputs": [],
   "source": [
    "grouped = df.groupby(['Vendor\\nCode','Description1', 'Attribute'])\n",
    "sums = grouped.sum()\n",
    "vendors = list(sums.index.levels[0])"
   ]
  },
  {
   "cell_type": "markdown",
   "metadata": {},
   "source": [
    "# For output to HTML"
   ]
  },
  {
   "cell_type": "code",
   "execution_count": null,
   "metadata": {
    "collapsed": true
   },
   "outputs": [],
   "source": [
    "with open('/Users/nathansuberi/Desktop/enchanted_reports/summer_sale_2018/summer_sale_reference.html', 'w') as f:\n",
    "    for vendor in vendors:\n",
    "        vendor_data = sums.loc[vendor, :, :].reset_index()\n",
    "        sale_flag = vendor_data['QTY'] < -5\n",
    "        on_sale = vendor_data.loc[sale_flag, ['Description1', 'Attribute', 'QTY']].reset_index().drop('index', axis=1)\n",
    "        not_on_sale = vendor_data.loc[~sale_flag, ['Description1', 'Attribute', 'QTY']].reset_index().drop('index', axis=1)\n",
    "        \n",
    "        if not_on_sale.shape[0]:\n",
    "            f.write('<h1>Vendor: ' + vendor + '</h1>\\n')\n",
    "            last_style = ''\n",
    "            for line in not_on_sale.values:\n",
    "                style = line[0]\n",
    "                color = line[1]\n",
    "                qty = int(line[2])\n",
    "                if last_style == style:\n",
    "                    f.write('<i>{}, {}, sold: <font size=4>{}</font>'.format(style, color, qty) + '</i> <br/>')\n",
    "                else:\n",
    "                    f.write('<br/><b>{}, {}, sold: <font size=4>{}</font>'.format(style, color, qty) + '</b> <br/>')\n",
    "                last_style = style"
   ]
  },
  {
   "cell_type": "markdown",
   "metadata": {},
   "source": [
    "# For output to csvs"
   ]
  },
  {
   "cell_type": "code",
   "execution_count": null,
   "metadata": {
    "collapsed": true
   },
   "outputs": [],
   "source": [
    "for vendor in vendors:\n",
    "    vendor_data = sums.loc[vendor, :, :].reset_index()\n",
    "    sale_flag = vendor_data['QTY'] < 4\n",
    "    on_sale = vendor_data.loc[sale_flag, ['Description1', 'Attribute', 'QTY']].reset_index().drop('index', axis=1)\n",
    "    not_on_sale = vendor_data.loc[~sale_flag, ['Description1', 'Attribute', 'QTY']].reset_index().drop('index', axis=1)\n",
    "\n",
    "    if on_sale.shape[0]:\n",
    "        on_sale.to_csv('/Users/nathansuberi/Desktop/enchanted_reports/summer_sale_2018/onsale_{}.csv'.format(vendor), header=None)\n",
    "    if not_on_sale.shape[0]:\n",
    "        not_on_sale.to_csv('/Users/nathansuberi/Desktop/enchanted_reports/summer_sale_2018/notonsale_{}.csv'.format(vendor), header=None)"
   ]
  }
 ],
 "metadata": {
  "kernelspec": {
   "display_name": "Python 3",
   "language": "python",
   "name": "python3"
  },
  "language_info": {
   "codemirror_mode": {
    "name": "ipython",
    "version": 3
   },
   "file_extension": ".py",
   "mimetype": "text/x-python",
   "name": "python",
   "nbconvert_exporter": "python",
   "pygments_lexer": "ipython3",
   "version": "3.6.0"
  }
 },
 "nbformat": 4,
 "nbformat_minor": 2
}
