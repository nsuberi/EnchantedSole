{
 "cells": [
  {
   "cell_type": "code",
   "execution_count": null,
   "metadata": {
    "collapsed": true
   },
   "outputs": [],
   "source": [
    "import pandas as pd\n",
    "pd.options.display.max_columns = 100\n",
    "pd.options.display.max_rows = 1000"
   ]
  },
  {
   "cell_type": "code",
   "execution_count": null,
   "metadata": {
    "collapsed": true
   },
   "outputs": [],
   "source": [
    "def test_func(inp, test_str):\n",
    "    if type(inp) != str:\n",
    "        return False\n",
    "    else:\n",
    "        return test_str in inp"
   ]
  },
  {
   "cell_type": "markdown",
   "metadata": {},
   "source": [
    "# Load and format data"
   ]
  },
  {
   "cell_type": "code",
   "execution_count": null,
   "metadata": {
    "collapsed": false
   },
   "outputs": [],
   "source": [
    "df = pd.read_excel('/Users/nathansuberi/Downloads/OH_Items.xls')\n",
    "\n",
    "# What is this?\n",
    "\n",
    "df"
   ]
  },
  {
   "cell_type": "code",
   "execution_count": null,
   "metadata": {
    "collapsed": false
   },
   "outputs": [],
   "source": [
    "df = pd.read_excel('/Users/nathansuberi/Downloads/OH_Items2.xls')\n",
    "\n",
    "# For Items2, By Item by Subsidiary\n",
    "df = df.drop(['Unnamed: 0', 'Unnamed: 2', 'Unnamed: 3'], axis=1)\n",
    "df = df.dropna(axis=0, how='all')\n",
    "df = df.dropna(axis=1, how='all')\n",
    "df = df[['Unnamed: 7', 'ON HAND: by Item By Subsidiary', 'Unnamed: 13', 'Unnamed: 14', 'Unnamed: 16', 'Unnamed: 23', 'Unnamed: 25', 'Report Date:']]\n",
    "df.columns = ['DCS', 'Vend Code', 'Desc1', 'Attr', 'Size', 'Qty', 'Price', 'Cost']\n",
    "df = df.drop([1, 14, 15])\n",
    "\n",
    "keep_data = df[['DCS', 'Vend Code', 'Desc1', 'Attr', 'Size']]\n",
    "qty_data = df[['Qty', 'Price', 'Cost']]\n",
    "keep_data = keep_data.dropna(axis=0, how='all')\n",
    "keep_data2 = keep_data.join(qty_data)"
   ]
  },
  {
   "cell_type": "code",
   "execution_count": null,
   "metadata": {
    "collapsed": false
   },
   "outputs": [],
   "source": [
    "df = pd.read_excel('/Users/nathansuberi/Downloads/OH_Items3.xls')\n",
    "\n",
    "# For Items3, By Item\n",
    "df = df.drop(['Unnamed: 0', 'Unnamed: 2'], axis=1)\n",
    "df = df.dropna(axis=0, how='all')\n",
    "df = df.dropna(axis=1, how='all')\n",
    "df = df[['Unnamed: 3', 'Unnamed: 5', 'Unnamed: 8', 'Unnamed: 13', 'Unnamed: 17', 'Unnamed: 24', 'Unnamed: 27', 'Unnamed: 31']]\n",
    "df.columns = ['DCS', 'Vend Code', 'Desc1', 'Attr', 'Size', 'Qty', 'Price', 'Cost']\n",
    "keep_data3 = df.drop([0, 2, 11])"
   ]
  },
  {
   "cell_type": "code",
   "execution_count": null,
   "metadata": {
    "collapsed": false
   },
   "outputs": [],
   "source": [
    "df = keep_data2\n",
    "col = 'Qty'\n",
    "\n",
    "flag = [a and b for a,b in zip(df[col].notnull(), df[col]>0)]\n",
    "df.loc[flag, col].sum()"
   ]
  },
  {
   "cell_type": "code",
   "execution_count": null,
   "metadata": {
    "collapsed": false
   },
   "outputs": [],
   "source": [
    "df[df[col]>0]"
   ]
  },
  {
   "cell_type": "markdown",
   "metadata": {},
   "source": [
    "# Pull just Merrells to check against Inventory View"
   ]
  },
  {
   "cell_type": "code",
   "execution_count": null,
   "metadata": {
    "collapsed": false
   },
   "outputs": [],
   "source": [
    "df = keep_data2\n",
    "\n",
    "mer_flag = [test_func(vnd, 'MER') for vnd in df['Vend Code']]\n",
    "merrells = df[mer_flag]"
   ]
  },
  {
   "cell_type": "code",
   "execution_count": null,
   "metadata": {
    "collapsed": false
   },
   "outputs": [],
   "source": [
    "merrells[merrells['Desc1'].str.contains('MIMOSA')]"
   ]
  },
  {
   "cell_type": "markdown",
   "metadata": {},
   "source": [
    "# Designate small sums"
   ]
  },
  {
   "cell_type": "code",
   "execution_count": null,
   "metadata": {
    "collapsed": false
   },
   "outputs": [],
   "source": [
    "sums = df.groupby(['DCS', 'Vend Code', 'Desc1', 'Attr']).sum()\n",
    "sums = sums.reset_index()\n",
    "inventory = sums[sums['On Hand\\nQty'] > 0]\n",
    "small_inv = inventory[inventory['On Hand\\nQty'] <= 2]\n",
    "small_inv.to_html('/Users/nathansuberi/Desktop/enchanted_reports/Small_inventory.html')"
   ]
  }
 ],
 "metadata": {
  "kernelspec": {
   "display_name": "Python 3",
   "language": "python",
   "name": "python3"
  },
  "language_info": {
   "codemirror_mode": {
    "name": "ipython",
    "version": 3
   },
   "file_extension": ".py",
   "mimetype": "text/x-python",
   "name": "python",
   "nbconvert_exporter": "python",
   "pygments_lexer": "ipython3",
   "version": "3.6.0"
  }
 },
 "nbformat": 4,
 "nbformat_minor": 2
}
