{
 "cells": [
  {
   "cell_type": "code",
   "execution_count": null,
   "metadata": {
    "collapsed": true
   },
   "outputs": [],
   "source": [
    "import pandas as pd\n",
    "pd.options.display.max_columns = 100\n",
    "pd.options.display.max_rows = 1000\n",
    "\n",
    "from pandas import Series"
   ]
  },
  {
   "cell_type": "code",
   "execution_count": null,
   "metadata": {
    "collapsed": true
   },
   "outputs": [],
   "source": [
    "def test_func(inp, test_str):\n",
    "    if type(inp) != str:\n",
    "        return False\n",
    "    else:\n",
    "        return test_str in inp\n",
    "    \n",
    "def sum_up(x):\n",
    "     return Series(dict(Qty = x['Qty'].sum(), \n",
    "                        Size = \"{%s}\" % ', '.join(x['Size'].astype(str))))"
   ]
  },
  {
   "cell_type": "markdown",
   "metadata": {},
   "source": [
    "# Load and format data"
   ]
  },
  {
   "cell_type": "code",
   "execution_count": null,
   "metadata": {
    "collapsed": false
   },
   "outputs": [],
   "source": [
    "df = pd.read_excel('/Users/nathansuberi/Downloads/OH_Items4.xls')\n",
    "\n",
    "# With settings\n",
    "\n",
    "df = df[['Unnamed: 3', 'Unnamed: 5', 'Unnamed: 8', 'Unnamed: 13', 'Unnamed: 17', 'Unnamed: 24', 'Unnamed: 27', 'Unnamed: 31']]\n",
    "df.columns = ['DCS', 'Vend Code', 'Desc1', 'Attr', 'Size', 'Qty', 'Price', 'Cost']\n",
    "df = df.dropna(axis=0, how='all')\n",
    "df = df.dropna(axis=1, how='all')\n",
    "df = df.drop(16)\n",
    "keep_data4 = df"
   ]
  },
  {
   "cell_type": "code",
   "execution_count": null,
   "metadata": {
    "collapsed": false
   },
   "outputs": [],
   "source": [
    "df = pd.read_excel('/Users/nathansuberi/Downloads/OH_Items2.xls')\n",
    "\n",
    "# For Items2, By Item by Subsidiary\n",
    "df = df.drop(['Unnamed: 0', 'Unnamed: 2', 'Unnamed: 3'], axis=1)\n",
    "df = df.dropna(axis=0, how='all')\n",
    "df = df.dropna(axis=1, how='all')\n",
    "df = df[['Unnamed: 7', 'ON HAND: by Item By Subsidiary', 'Unnamed: 13', 'Unnamed: 14', 'Unnamed: 16', 'Unnamed: 23', 'Unnamed: 25', 'Report Date:']]\n",
    "df.columns = ['DCS', 'Vend Code', 'Desc1', 'Attr', 'Size', 'Qty', 'Price', 'Cost']\n",
    "df = df.drop([1, 14, 15])\n",
    "\n",
    "keep_data = df[['DCS', 'Vend Code', 'Desc1', 'Attr', 'Size']]\n",
    "qty_data = df[['Qty', 'Price', 'Cost']]\n",
    "keep_data = keep_data.dropna(axis=0, how='all')\n",
    "keep_data2 = keep_data.join(qty_data)"
   ]
  },
  {
   "cell_type": "code",
   "execution_count": null,
   "metadata": {
    "collapsed": false
   },
   "outputs": [],
   "source": [
    "df = pd.read_excel('/Users/nathansuberi/Downloads/OH_Items3.xls')\n",
    "\n",
    "# For Items3, By Item\n",
    "df = df.drop(['Unnamed: 0', 'Unnamed: 2'], axis=1)\n",
    "df = df.dropna(axis=0, how='all')\n",
    "df = df.dropna(axis=1, how='all')\n",
    "df = df[['Unnamed: 3', 'Unnamed: 5', 'Unnamed: 8', 'Unnamed: 13', 'Unnamed: 17', 'Unnamed: 24', 'Unnamed: 27', 'Unnamed: 31']]\n",
    "df.columns = ['DCS', 'Vend Code', 'Desc1', 'Attr', 'Size', 'Qty', 'Price', 'Cost']\n",
    "keep_data3 = df.drop([0, 2, 11])"
   ]
  },
  {
   "cell_type": "code",
   "execution_count": null,
   "metadata": {
    "collapsed": false
   },
   "outputs": [],
   "source": [
    "df = keep_data2\n",
    "col = 'Qty'\n",
    "\n",
    "flag = [a and b for a,b in zip(df[col].notnull(), df[col]>0)]\n",
    "df.loc[flag, col].sum()"
   ]
  },
  {
   "cell_type": "code",
   "execution_count": null,
   "metadata": {
    "collapsed": false
   },
   "outputs": [],
   "source": [
    "df[df[col]>0]"
   ]
  },
  {
   "cell_type": "markdown",
   "metadata": {},
   "source": [
    "# Pull just Merrells to check against Inventory View"
   ]
  },
  {
   "cell_type": "code",
   "execution_count": null,
   "metadata": {
    "collapsed": false
   },
   "outputs": [],
   "source": [
    "df = keep_data4\n",
    "\n",
    "mer_flag = [test_func(vnd, 'MER') for vnd in df['Vend Code']]\n",
    "merrells = df[mer_flag]"
   ]
  },
  {
   "cell_type": "code",
   "execution_count": null,
   "metadata": {
    "collapsed": false
   },
   "outputs": [],
   "source": [
    "merrells[merrells['Desc1'].str.contains('MIMOSA')]"
   ]
  },
  {
   "cell_type": "markdown",
   "metadata": {},
   "source": [
    "# Designate small sums"
   ]
  },
  {
   "cell_type": "code",
   "execution_count": null,
   "metadata": {
    "collapsed": false
   },
   "outputs": [],
   "source": [
    "sums = df.groupby(['DCS', 'Vend Code', 'Desc1', 'Attr']).sum()\n",
    "sums = sums.reset_index()\n",
    "inventory = sums[sums['Qty'] > 0]\n",
    "small_inv = inventory[inventory['Qty'] <= 2]\n",
    "small_inv.to_html('/Users/nathansuberi/Desktop/enchanted_reports/Small_inventory.html')"
   ]
  },
  {
   "cell_type": "code",
   "execution_count": null,
   "metadata": {
    "collapsed": true
   },
   "outputs": [],
   "source": [
    "vendors = sums['Vend Code'].unique()"
   ]
  },
  {
   "cell_type": "code",
   "execution_count": null,
   "metadata": {
    "collapsed": false
   },
   "outputs": [],
   "source": [
    "vendors"
   ]
  },
  {
   "cell_type": "code",
   "execution_count": null,
   "metadata": {
    "collapsed": false
   },
   "outputs": [],
   "source": [
    "print_data = df.sort_values(['Vend Code', 'Desc1', 'Attr', 'Size'])\n",
    "print_data = print_data[print_data['Qty'] > 0]\n",
    "print_data = print_data.groupby(['Vend Code', 'Desc1', 'Attr']).apply(sum_up).reset_index()"
   ]
  },
  {
   "cell_type": "code",
   "execution_count": null,
   "metadata": {
    "collapsed": false
   },
   "outputs": [],
   "source": [
    "with open('/Users/nathansuberi/Desktop/enchanted_reports/inventory_analysis/inventory_reference.html', 'w') as f:\n",
    "    for vendor in vendors:\n",
    "        vendor_data = print_data[print_data['Vend Code'] == vendor]\n",
    "        vendor_data['key'] = vendor_data['Desc1'] + vendor_data['Attr']\n",
    "        \n",
    "        try:\n",
    "            vendor_not_on_sale = pd.read_csv('/Users/nathansuberi/Desktop/enchanted_reports/summer_sale_2018/notonsale_{}.csv'.format(vendor))\n",
    "            vendor_not_on_sale.columns = ['index', 'Desc1', 'Attr', 'SOLD']\n",
    "            vendor_not_on_sale['key'] = vendor_not_on_sale['Desc1'] + vendor_not_on_sale['Attr']\n",
    "            not_on_sales = True\n",
    "        except:\n",
    "            not_on_sales = False\n",
    "        \n",
    "#         print(\"hello\")\n",
    "#         print(vendor_data.head())\n",
    "#         print(\"world\")\n",
    "#         print(vendor_not_on_sale.head())\n",
    "        \n",
    "        f.write('<h1>Vendor: ' + vendor + '</h1>\\n')\n",
    "        last_style = ''\n",
    "        for line in vendor_data.values:\n",
    "            style = line[1]\n",
    "            color = line[2]\n",
    "            sizes = line[4].replace('{', '').replace('}', '')\n",
    "            if last_style == style:\n",
    "                header = '</br><i>'\n",
    "                footer = '</i>'\n",
    "            else:\n",
    "                header = '<br/><b>'\n",
    "                footer = '</b>'\n",
    "                \n",
    "            if not_on_sales:                     \n",
    "                if line[5] not in vendor_not_on_sale['key'].values:\n",
    "                    header = '<mark>' + header\n",
    "                    footer = footer + '</mark>'\n",
    "                \n",
    "            f.write('{}{}, {}, sizes: <font size=4>{}</font>{}'.format(header, style, color, sizes, footer))\n",
    "            last_style = style"
   ]
  },
  {
   "cell_type": "code",
   "execution_count": null,
   "metadata": {
    "collapsed": false
   },
   "outputs": [],
   "source": [
    "keep_line[5] in keep_vend.values"
   ]
  }
 ],
 "metadata": {
  "kernelspec": {
   "display_name": "Python 3",
   "language": "python",
   "name": "python3"
  },
  "language_info": {
   "codemirror_mode": {
    "name": "ipython",
    "version": 3
   },
   "file_extension": ".py",
   "mimetype": "text/x-python",
   "name": "python",
   "nbconvert_exporter": "python",
   "pygments_lexer": "ipython3",
   "version": "3.6.0"
  }
 },
 "nbformat": 4,
 "nbformat_minor": 2
}
