{
 "cells": [
  {
   "cell_type": "code",
   "execution_count": null,
   "metadata": {
    "collapsed": false
   },
   "outputs": [],
   "source": [
    "import pandas as pd\n",
    "import os\n",
    "from io import StringIO, BytesIO\n",
    "from datetime import datetime\n",
    "from pandas import Series\n",
    "from lxml import etree\n",
    "\n",
    "pd.options.display.max_columns = 200\n",
    "pd.options.display.max_rows = 200"
   ]
  },
  {
   "cell_type": "code",
   "execution_count": null,
   "metadata": {
    "collapsed": false
   },
   "outputs": [],
   "source": [
    "import xml.etree.ElementTree as ET\n",
    "\n",
    "class XML2DataFrame:\n",
    "\n",
    "    def __init__(self, xml_data):\n",
    "        self.root = ET.XML(xml_data)\n",
    "\n",
    "    def parse_root(self, root):\n",
    "        return [self.parse_element(child) for child in iter(root)]\n",
    "\n",
    "    def parse_element(self, element, parsed=None):\n",
    "        if parsed is None:\n",
    "            parsed = dict()\n",
    "        for key in element.keys():\n",
    "            parsed[key] = element.attrib.get(key)\n",
    "        if element.text:\n",
    "            parsed[element.tag] = element.text\n",
    "        for child in list(element):\n",
    "            self.parse_element(child, parsed)\n",
    "        return parsed\n",
    "\n",
    "    def process_data(self):\n",
    "        structure_data = self.parse_root(self.root)\n",
    "        return pd.DataFrame(structure_data)\n",
    "    \n",
    "def select_ints(item):\n",
    "    try:\n",
    "        int(item)\n",
    "        return True\n",
    "    except:\n",
    "        return False\n",
    "    \n",
    "def f(x):\n",
    "     return Series(dict(qty = x['qty'].sum(), \n",
    "                        siz = \"{%s}\" % ', '.join(x['siz'])))"
   ]
  },
  {
   "cell_type": "code",
   "execution_count": null,
   "metadata": {
    "collapsed": false
   },
   "outputs": [],
   "source": [
    "for i in range(7):\n",
    "    print('Loading data for Inventory00{}, {}'.format(i, datetime.now()))\n",
    "    tree = etree.parse(\"Inventory00{}.xml\".format(i))\n",
    "    \n",
    "    print('Converting Inventory00{} to a df, {}'.format(i, datetime.now()))\n",
    "    df = pd.DataFrame()\n",
    "    for item in tree.findall('.//INVENTORY'):\n",
    "        table = XML2DataFrame(etree.tostring(item)).process_data()\n",
    "        if table.loc[2, 'dcs_code'] == 'W  S':\n",
    "            df = df.append(table.loc[2])\n",
    "    df = df.dropna(axis=0, how='all')\n",
    "    \n",
    "    print('Selecting relevant data from Inventory00{}, {}'.format(i, datetime.now()))\n",
    "    items = df[['dcs_code', 'vend_code', 'description1', 'attr', 'siz', 'active', 'qty', 'sold_qty', 'cost', 'price', 'lst_sold_date', 'lst_rcvd_date', 'fst_rcvd_date']]\n",
    "    items.sort_values(['vend_code', 'description1', 'attr', 'siz'], ascending=True)\n",
    "    \n",
    "    sandals = items[items['dcs_code'] == 'W  S']\n",
    "    sum_info = sandals[['vend_code', 'description1', 'attr', 'qty', 'siz']]\n",
    "    sum_info = sum_info.loc[[select_ints(item) for item in sum_info['qty']]]\n",
    "    sum_info['qty'] = sum_info['qty'].astype(int)\n",
    "    sum_info = sum_info.loc[sum_info['qty'] > 0]\n",
    "    sum_info['siz'] = sum_info['siz'].astype(str)\n",
    "    print(sum_info.head())\n",
    "    sums = sum_info.groupby(['vend_code', 'description1', 'attr']).apply(f)\n",
    "    sumz = sums.reset_index()\n",
    "    print(sumz.head())\n",
    "    \n",
    "    print('Calculating small sums from Inventory00{}, {}'.format(i, datetime.now()))\n",
    "    small_sums = sumz.loc[[val <=2 for val in sumz['qty']]]\n",
    "    small_sums.to_csv('/Users/nathansuberi/Desktop/enchanted_reports/inventory_analysis/small_sums_from_inventory00{}.csv'.format(i))"
   ]
  },
  {
   "cell_type": "code",
   "execution_count": null,
   "metadata": {
    "collapsed": false
   },
   "outputs": [],
   "source": [
    "loc = '/Users/nathansuberi/Desktop/enchanted_reports/inventory_analysis/small_sums_from_inventory00{}.csv'\n",
    "df = pd.DataFrame()\n",
    "for i in range(7):\n",
    "    _df = pd.read_csv(loc.format(i))\n",
    "    df = df.append(_df)"
   ]
  },
  {
   "cell_type": "code",
   "execution_count": null,
   "metadata": {
    "collapsed": false
   },
   "outputs": [],
   "source": [
    "df = df.drop('Unnamed: 0', axis=1)"
   ]
  },
  {
   "cell_type": "code",
   "execution_count": null,
   "metadata": {
    "collapsed": false
   },
   "outputs": [],
   "source": [
    "f"
   ]
  },
  {
   "cell_type": "code",
   "execution_count": null,
   "metadata": {
    "collapsed": false
   },
   "outputs": [],
   "source": [
    "df = df.sort_values(['vend_code', 'description1', 'attr'])"
   ]
  },
  {
   "cell_type": "code",
   "execution_count": null,
   "metadata": {
    "collapsed": false
   },
   "outputs": [],
   "source": [
    "final_sums = df.groupby(['vend_code', 'description1', 'attr']).apply(f).reset_index()"
   ]
  },
  {
   "cell_type": "code",
   "execution_count": null,
   "metadata": {
    "collapsed": false
   },
   "outputs": [],
   "source": [
    "final_sums[final_sums['qty'] <= 2].to_csv('/Users/nathansuberi/Desktop/enchanted_reports/inventory_analysis/final_sums.csv')\n",
    "final_sums[final_sums['qty'] <= 2].to_html('/Users/nathansuberi/Desktop/enchanted_reports/inventory_analysis/final_sums.html')"
   ]
  },
  {
   "cell_type": "code",
   "execution_count": null,
   "metadata": {
    "collapsed": false
   },
   "outputs": [],
   "source": [
    "vendors = df.groupby(['vend_code', 'description1', 'attr']).apply(f).reset_index()['vend_code'].unique()"
   ]
  },
  {
   "cell_type": "code",
   "execution_count": null,
   "metadata": {
    "collapsed": false
   },
   "outputs": [],
   "source": [
    "vendors"
   ]
  },
  {
   "cell_type": "code",
   "execution_count": null,
   "metadata": {
    "collapsed": true
   },
   "outputs": [],
   "source": [
    "exclude_list = ['ABO', 'ACO', 'WOL', 'XSE', 'ZEE',\n",
    "                'AGS', 'AHN', 'ANA', 'ANT', 'ARA', 'ARI',\n",
    "                'BAN', 'BLE', 'BLU', 'BRI', 'CCR', 'CHI',\n",
    "                'CHO', 'CLA', 'COR', 'DEC', 'DOL', 'DOU',\n",
    "                'DRE', 'ELN', 'FID', 'FLE', 'FLX', \n",
    "                'FRY', 'GEO', 'GOL', 'HAV', 'HEL', 'HIS',\n",
    "                'JOB', 'JUI', 'LIZ', 'MAC', 'MBT', 'MAD',\n",
    "                'MOD', 'MOI', 'MUN', 'MUR', 'OKA', 'OTB',\n",
    "                'PEN', 'PEP', 'POR', 'PRE', 'QWA', 'RAF', \n",
    "                'RAI', 'RZD', 'SAN', 'SCF', 'SEN', 'SID',\n",
    "                'SPE', 'STO', 'SWI', 'TAB', 'TAM', 'THE',\n",
    "                'TIC', 'TOM', 'VAL', 'VER', 'VIC', 'VID',\n",
    "                'VIO', 'VOL']"
   ]
  },
  {
   "cell_type": "code",
   "execution_count": null,
   "metadata": {
    "collapsed": false
   },
   "outputs": [],
   "source": [
    "#final_sums = df.groupby(['vend_code', 'description1', 'attr']).apply(f)\n",
    "with open('/Users/nathansuberi/Desktop/enchanted_reports/inventory_analysis/final_sums_reference.html', 'w') as f:\n",
    "    for vendor in vendors:\n",
    "        vendor_data = final_sums.loc[vendor, :, :].reset_index()\n",
    "        vendor_data = vendor_data[vendor_data['qty'] <= 2]\n",
    "\n",
    "        if vendor_data.shape[0] and vendor not in exclude_list:\n",
    "            f.write('<h1>Vendor: ' + vendor + '</h1>\\n')\n",
    "            last_style = ''\n",
    "            for line in vendor_data.values:\n",
    "                style = line[1]\n",
    "                color = line[2]\n",
    "                sizes = line[4].replace('{', '').replace('}', '')\n",
    "                if last_style == style:\n",
    "                    f.write('</br><i>{}, {}, sizes: <font size=4>{}</font></i>'.format(style, color, sizes) + '</i>')\n",
    "                else:\n",
    "                    f.write('<br/><b>{}, {}, sizes: <font size=4>{}</font></b>'.format(style, color, sizes) + '</b>')\n",
    "                last_style = style"
   ]
  },
  {
   "cell_type": "code",
   "execution_count": null,
   "metadata": {
    "collapsed": false
   },
   "outputs": [],
   "source": []
  },
  {
   "cell_type": "code",
   "execution_count": null,
   "metadata": {
    "collapsed": false
   },
   "outputs": [],
   "source": [
    "z = zip(items['description1'].str.contains('HELEN'), items['attr'].str.contains('27577'))\n",
    "flag = [a and b for a,b in z]\n",
    "items[flag]"
   ]
  },
  {
   "cell_type": "markdown",
   "metadata": {},
   "source": [
    "Notes:\n",
    "http://www.austintaylor.io/lxml/python/pandas/xml/dataframe/2016/07/08/convert-xml-to-pandas-dataframe/"
   ]
  },
  {
   "cell_type": "code",
   "execution_count": null,
   "metadata": {
    "collapsed": true
   },
   "outputs": [],
   "source": []
  },
  {
   "cell_type": "code",
   "execution_count": null,
   "metadata": {
    "collapsed": true
   },
   "outputs": [],
   "source": [
    "with open(\"Inventory006.xml\", \"r\") as f:\n",
    "    xml_data = f.read()\n",
    "#xml2df = XML2DataFrame(xml_data)\n",
    "xml2df = XML2DataFrame(etree.tostring())\n",
    "xml_dataframe = xml2df.process_data()"
   ]
  }
 ],
 "metadata": {
  "kernelspec": {
   "display_name": "Python 3",
   "language": "python",
   "name": "python3"
  },
  "language_info": {
   "codemirror_mode": {
    "name": "ipython",
    "version": 3
   },
   "file_extension": ".py",
   "mimetype": "text/x-python",
   "name": "python",
   "nbconvert_exporter": "python",
   "pygments_lexer": "ipython3",
   "version": "3.6.0"
  }
 },
 "nbformat": 4,
 "nbformat_minor": 2
}
