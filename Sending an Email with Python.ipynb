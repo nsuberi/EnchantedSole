{
 "cells": [
  {
   "cell_type": "code",
   "execution_count": null,
   "metadata": {
    "collapsed": false
   },
   "outputs": [],
   "source": [
    "# Import smtplib for the actual sending function\n",
    "import smtplib\n",
    "import os\n",
    "import pandas as pd\n",
    "from datetime import datetime, timedelta\n",
    "\n",
    "# Import the email modules we'll need\n",
    "from email.mime.multipart import MIMEMultipart\n",
    "from email.mime.text import MIMEText\n",
    "from email.utils import COMMASPACE, formatdate\n",
    "from email.mime.base import MIMEBase\n",
    "from email.encoders import encode_base64"
   ]
  },
  {
   "cell_type": "code",
   "execution_count": null,
   "metadata": {
    "collapsed": false
   },
   "outputs": [],
   "source": [
    "def check_ext(f, target_ext):\n",
    "    return True if (os.path.splitext(f)[1] == target_ext) else False\n",
    "def check_sale_reports(f):\n",
    "    return True if 'rpt_S8_Item_summ' in f else False\n",
    "def check_inventory_reports(f):\n",
    "    return True if '' in f else False\n",
    "def matches(f, date):\n",
    "    return True if date in f else False\n",
    "\n",
    "reports = list(filter(lambda f: check_ext(f, '.xls'), os.listdir('/Users/nathansuberi/Downloads/')))\n",
    "sale_reports = list(filter(check_sale_reports, reports))\n",
    "inventory_reports = list(filter(check_inventory_reports, reports))\n",
    "\n",
    "sale_report_dates = [datetime.strptime(f[:8], '%d%m%Y') for f in sale_reports]\n",
    "recent_sale_report_date = sorted(sale_report_dates, reverse=True)[0].strftime('%d%m%Y')\n",
    "recent_sale_report = list(filter(lambda f: matches(f, recent_sale_report_date), sale_reports))\n",
    "\n",
    "inventory_report_dates = [datetime.strptime(f[:8], '%d%m%Y') for f in inventory_reports]\n",
    "recent_inventory_report_date = sorted(inventory_report_dates, reverse=True)[0].strftime('%d%m%Y')\n",
    "recent_inventory_report = list(filter(lambda f: matches(f, recent_inventory_report_date), inventory_reports))"
   ]
  },
  {
   "cell_type": "code",
   "execution_count": null,
   "metadata": {
    "collapsed": true
   },
   "outputs": [],
   "source": [
    "FROM = os.environ.get('reports_user')\n",
    "PASS = os.environ.get('reports_password')\n",
    "SOLD_REPORT = recent_sale_report\n",
    "INVENTORY_REPORT = recent_inventory_report\n",
    "DATE_FORMAT = '%m-%d-%Y'\n",
    "PADRES = 'nsuberi@gmail.com'"
   ]
  },
  {
   "cell_type": "code",
   "execution_count": null,
   "metadata": {
    "collapsed": true
   },
   "outputs": [],
   "source": [
    "vendors = {\n",
    "    'ORT': {'company_name':'Vionic','rep_email':'nsuberi@gmail.com','rep_name':'Andrew'}, \n",
    "    'DAN': {'company_name':'Dansko','rep_email':'nsuberi@gmail.com','rep_name':'Cliff'},\n",
    "    'NAO': {'company_name':'Naot','rep_email':'nsuberi@gmail.com','rep_name':'Bruce'},\n",
    "    'MEP': {'company_name':'Mephisto','rep_email':'nsuberi@gmail.com','rep_name':''},\n",
    "    'OLU': {'company_name':'Olukai','rep_email':'nsuberi@gmail.com','rep_name':''},\n",
    "    'AET': {'company_name':'Aetrex','rep_email':'nsuberi@gmail.com','rep_name':''},\n",
    "    'PIK': {'company_name':'Pikolinos','rep_email':'nsuberi@gmail.com','rep_name':''},\n",
    "    'TAO': {'company_name':'Taos','rep_email':'nsuberi@gmail.com','rep_name':''},\n",
    "    'HAF': {'company_name':'Haflinger','rep_email':'nsuberi@gmail.com','rep_name':''},\n",
    "    'FIN': {'company_name':'Finn Comfort, Think','rep_email':'nsuberi@gmail.com','rep_name':''},\n",
    "    'SIM': {'company_name':'Simco','rep_email':'nsuberi@gmail.com','rep_name':''}\n",
    "}"
   ]
  },
  {
   "cell_type": "code",
   "execution_count": null,
   "metadata": {
    "collapsed": false
   },
   "outputs": [],
   "source": [
    "sold_data = pd.read_excel(SOLD_REPORT)\n",
    "sold_data = sold_data.reset_index()\n",
    "sold_data = sold_data.dropna(axis=0, how='all')\n",
    "sold_data = sold_data.drop([1,6,8,10,15])\n",
    "sold_data.columns = sold_data.loc[12]\n",
    "sold_data = sold_data.drop([12])\n",
    "sold_data = sold_data.dropna(axis=1, how='all')\n",
    "sold_data.columns = ['DCS Code',\n",
    " 'Vendor\\nCode',\n",
    " 'Description1',\n",
    " None,\n",
    " 'Attribute',\n",
    " None,\n",
    " 'Size',\n",
    " 'UPC',\n",
    " 'QTY',\n",
    " None,\n",
    " 'Ext Price',\n",
    " 'Ext Cost',\n",
    " 'Ext Margin Amount',\n",
    " 'Margin %']\n",
    "#sold_data.columns = [name if type(name) == str else None for name in sold_data.columns]\n",
    "sold_data = sold_data.drop(None, axis=1)"
   ]
  },
  {
   "cell_type": "code",
   "execution_count": null,
   "metadata": {
    "collapsed": false
   },
   "outputs": [],
   "source": [
    "inventory_data = pd.read_excel(INVENTORY_REPORT)\n",
    "\n",
    "inventory_data = inventory_data[['Unnamed: 3', 'Unnamed: 5', 'Unnamed: 8', 'Unnamed: 13', 'Unnamed: 17', 'Unnamed: 24', 'Unnamed: 27', 'Unnamed: 31']]\n",
    "inventory_data.columns = ['DCS', 'Vend Code', 'Desc1', 'Attr', 'Size', 'Qty', 'Price', 'Cost']\n",
    "inventory_data = inventory_data.dropna(axis=0, how='all')\n",
    "inventory_data = inventory_data.dropna(axis=1, how='all')\n",
    "inventory_data = inventory_data.drop(16)"
   ]
  },
  {
   "cell_type": "code",
   "execution_count": null,
   "metadata": {
    "collapsed": false
   },
   "outputs": [],
   "source": [
    "server = smtplib.SMTP('smtp.gmail.com:587')\n",
    "server.ehlo()\n",
    "server.starttls()\n",
    "server.login(FROM, PASS)\n",
    "\n",
    "start_date = datetime.today() - timedelta(days=7)\n",
    "end_date = datetime.today() - timedelta(days=1)\n",
    "\n",
    "for vendor, info in vendors.items():\n",
    "    \n",
    "    msg = MIMEMultipart()\n",
    "    msg['Subject'] = '{} sales during period {} to {}, current inventory'.format(info['company_name'], start_date.strftime(DATE_FORMAT), end_date.strftime(DATE_FORMAT))\n",
    "    msg['From'] = FROM\n",
    "    msg['To'] = COMMASPACE.join([info['rep_email'], PADRES])\n",
    "    msg['Date'] = formatdate(localtime=True)\n",
    "    \n",
    "    text = MIMEText('Hi, {}! Attached are our sales for {} in the past week. Could you please take a look and give us some recommendations on a PO based on our current sell through? Thanks! Please let me know what frequency you would like to receive this message.'.format(info['rep_name'], info['company_name']), 'plain', 'us-ascii')\n",
    "    msg.attach(text)\n",
    "    \n",
    "    # Create attachments by subsetting the sold_data and inventory_data\n",
    "    sold_in_vendor = sold_data[sold_data['Vendor\\nCode'] == vendor].sort_values(by=['Description1', 'Attribute', 'Size'])\n",
    "    inventory_in_vendor = inventory_data[inventory_data['Vend Code'] == vendor].sort_values(by=['Desc1', 'Attr', 'Size'])\n",
    "\n",
    "    sold_in_vendor.to_csv('tmp_sold.csv')\n",
    "    inventory_in_vendor.to_csv('tmp_inv.csv')\n",
    "    \n",
    "    for d in ['sold', 'inv']:\n",
    "        with open('tmp_{}.csv'.format(d), 'rb') as data:\n",
    "            csv = MIMEBase('application', 'octet-stream')\n",
    "            csv.set_payload(data.read())\n",
    "            encode_base64(csv)\n",
    "            csv.add_header('Content-Disposition', 'attachment',\n",
    "                              filename=os.path.basename('tmp_{}.csv'.format(d)))\n",
    "            msg.attach(csv)\n",
    "        os.remove('tmp_{}.csv'.format(d))\n",
    "            \n",
    "    \n",
    "    # Send the message via our own SMTP server.\n",
    "    server.send_message(msg)\n",
    "\n",
    "server.quit()"
   ]
  }
 ],
 "metadata": {
  "kernelspec": {
   "display_name": "Python 3",
   "language": "python",
   "name": "python3"
  },
  "language_info": {
   "codemirror_mode": {
    "name": "ipython",
    "version": 3
   },
   "file_extension": ".py",
   "mimetype": "text/x-python",
   "name": "python",
   "nbconvert_exporter": "python",
   "pygments_lexer": "ipython3",
   "version": "3.6.0"
  }
 },
 "nbformat": 4,
 "nbformat_minor": 2
}
